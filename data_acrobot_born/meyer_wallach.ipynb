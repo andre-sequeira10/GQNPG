{
 "cells": [
  {
   "cell_type": "code",
   "execution_count": 1,
   "metadata": {},
   "outputs": [],
   "source": [
    "import pennylane as qml\n",
    "from pennylane import numpy as np"
   ]
  },
  {
   "attachments": {},
   "cell_type": "markdown",
   "metadata": {},
   "source": [
    "### meyer wallach $\\rho^{2}$ for uniform superposition state"
   ]
  },
  {
   "cell_type": "code",
   "execution_count": 15,
   "metadata": {},
   "outputs": [
    {
     "name": "stdout",
     "output_type": "stream",
     "text": [
      "1.7763568394002505e-15\n"
     ]
    }
   ],
   "source": [
    "n_qubits = 5\n",
    "device = qml.device(\"default.qubit\", wires=n_qubits)\n",
    "\n",
    "@qml.qnode(device)\n",
    "def meyer_wallach_circuit(qubit):\n",
    "    \n",
    "    for q in range(n_qubits):\n",
    "        qml.Hadamard(wires=q)\n",
    "\n",
    "    return qml.density_matrix([qubit])\n",
    "\n",
    "\n",
    "entanglement = 0\n",
    "for q in range(n_qubits):\n",
    "    rho_i = meyer_wallach_circuit(q)\n",
    "    entanglement += np.trace(np.matmul(rho_i,rho_i))\n",
    "\n",
    "entanglement /= n_qubits\n",
    "meyer_wallach = (2-2*entanglement).real\n",
    "print(meyer_wallach)"
   ]
  },
  {
   "attachments": {},
   "cell_type": "markdown",
   "metadata": {},
   "source": [
    "### meyer wallach $\\rho^{**2}$ for uniform superposition state"
   ]
  },
  {
   "cell_type": "code",
   "execution_count": 14,
   "metadata": {},
   "outputs": [
    {
     "name": "stdout",
     "output_type": "stream",
     "text": [
      "1.0000000000000009\n"
     ]
    }
   ],
   "source": [
    "n_qubits = 5\n",
    "device = qml.device(\"default.qubit\", wires=n_qubits)\n",
    "\n",
    "@qml.qnode(device)\n",
    "def meyer_wallach_circuit(qubit):\n",
    "    \n",
    "    for q in range(n_qubits):\n",
    "        qml.Hadamard(wires=q)\n",
    "\n",
    "    return qml.density_matrix([qubit])\n",
    "\n",
    "\n",
    "entanglement = 0\n",
    "for q in range(n_qubits):\n",
    "    rho_i = meyer_wallach_circuit(q)\n",
    "    entanglement += np.trace(rho_i**2)\n",
    "\n",
    "entanglement /= n_qubits\n",
    "meyer_wallach = (2-2*entanglement).real\n",
    "print(meyer_wallach)"
   ]
  },
  {
   "attachments": {},
   "cell_type": "markdown",
   "metadata": {},
   "source": [
    "### meyer wallach $\\rho^{2}$ for GHZ state "
   ]
  },
  {
   "cell_type": "code",
   "execution_count": 16,
   "metadata": {},
   "outputs": [
    {
     "name": "stdout",
     "output_type": "stream",
     "text": [
      "1.0000000000000004\n"
     ]
    }
   ],
   "source": [
    "n_qubits = 5\n",
    "device = qml.device(\"default.qubit\", wires=n_qubits)\n",
    "\n",
    "@qml.qnode(device)\n",
    "def meyer_wallach_circuit(qubit):\n",
    "    \n",
    "    qml.Hadamard(wires=0)\n",
    "    for i in range(n_qubits-1):\n",
    "        qml.CNOT(wires=[i,i+1])\n",
    "\n",
    "    return qml.density_matrix([qubit])\n",
    "\n",
    "entanglement = 0\n",
    "for q in range(n_qubits):\n",
    "    rho_i = meyer_wallach_circuit(q)\n",
    "    entanglement += np.trace(np.matmul(rho_i,rho_i))\n",
    "\n",
    "entanglement /= n_qubits\n",
    "meyer_wallach = (2-2*entanglement).real\n",
    "print(meyer_wallach)"
   ]
  },
  {
   "attachments": {},
   "cell_type": "markdown",
   "metadata": {},
   "source": [
    "### meyer wallach $\\rho^{**2}$ for GHZ state "
   ]
  },
  {
   "cell_type": "code",
   "execution_count": 17,
   "metadata": {},
   "outputs": [
    {
     "name": "stdout",
     "output_type": "stream",
     "text": [
      "1.0000000000000004\n"
     ]
    }
   ],
   "source": [
    "n_qubits = 5\n",
    "device = qml.device(\"default.qubit\", wires=n_qubits)\n",
    "\n",
    "ql = list(range(n_qubits))\n",
    "\n",
    "@qml.qnode(device)\n",
    "def meyer_wallach_circuit(qubit):\n",
    "    \n",
    "    qml.Hadamard(wires=0)\n",
    "    for i in range(n_qubits-1):\n",
    "        qml.CNOT(wires=[i,i+1])\n",
    "\n",
    "    return qml.density_matrix([qubit])\n",
    "\n",
    "entanglement = 0\n",
    "for q in range(n_qubits):\n",
    "    rho_i = meyer_wallach_circuit(q)\n",
    "    entanglement += np.trace(rho_i**2)\n",
    "\n",
    "entanglement /= n_qubits\n",
    "meyer_wallach = (2-2*entanglement).real\n",
    "print(meyer_wallach)"
   ]
  },
  {
   "cell_type": "code",
   "execution_count": null,
   "metadata": {},
   "outputs": [],
   "source": []
  }
 ],
 "metadata": {
  "kernelspec": {
   "display_name": "quantum_DS",
   "language": "python",
   "name": "python3"
  },
  "language_info": {
   "codemirror_mode": {
    "name": "ipython",
    "version": 3
   },
   "file_extension": ".py",
   "mimetype": "text/x-python",
   "name": "python",
   "nbconvert_exporter": "python",
   "pygments_lexer": "ipython3",
   "version": "3.10.4"
  },
  "orig_nbformat": 4
 },
 "nbformat": 4,
 "nbformat_minor": 2
}
