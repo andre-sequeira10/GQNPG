{
 "cells": [
  {
   "cell_type": "code",
   "execution_count": 1,
   "metadata": {},
   "outputs": [],
   "source": [
    "import pennylane as qml\n",
    "import torch\n",
    "import torch.nn.functional as F\n",
    "from pennylane import numpy as np"
   ]
  },
  {
   "cell_type": "code",
   "execution_count": 4,
   "metadata": {},
   "outputs": [],
   "source": [
    "n_qubits = 4\n",
    "dev = qml.device(\"default.qubit\", wires=[i for i in range(n_qubits+1)])\n",
    "\n",
    "def ansatz_flatten(state, flat_weights, n_qubits, n_layers=1, change_of_basis=False, entanglement=\"all2all\"):\n",
    "    #flat_weights = weights.flatten()\n",
    "    num_weights_per_layer = n_qubits * 2\n",
    "\n",
    "    if change_of_basis is True:\n",
    "        for l in range(n_layers):\n",
    "            for i in range(n_qubits):\n",
    "                index = l * num_weights_per_layer + i * 2\n",
    "                qml.Rot(flat_weights[index], flat_weights[index + 1], wires=i)\n",
    "    else:          \n",
    "        for l in range(n_layers):\n",
    "            for i in range(n_qubits):\n",
    "                index = l * num_weights_per_layer + i * 2\n",
    "                qml.RZ(flat_weights[index], wires=i)\n",
    "                qml.RY(flat_weights[index + 1], wires=i)\n",
    "\n",
    "\n",
    "            if entanglement == \"all2all\":\n",
    "                for q1 in range(n_qubits-1):    \n",
    "                    for q2 in range(q1+1, n_qubits):\n",
    "                        qml.CNOT(wires=[q1,q2])\n",
    "\n",
    "            elif entanglement == \"mod\":\n",
    "                for q1 in range(n_qubits):\n",
    "                    qml.CNOT(wires=[q1, (q1+l+1)%n_qubits])\n",
    "\n",
    "            elif entanglement == \"linear\":\n",
    "                for q1 in range(n_qubits-1):    \n",
    "                    qml.CNOT(wires=[q1, q1+1])\n",
    "\n",
    "            elif entanglement == \"circular\":\n",
    "                for q1 in range(n_qubits):\n",
    "                    qml.CNOT(wires=[q1, (q1+1)%n_qubits])\n",
    "\n",
    "            elif entanglement == \"nn\":\n",
    "                qml.CNOT(wires=[0, 1])\n",
    "                qml.CNOT(wires=[2, 3])\n",
    "                qml.CNOT(wires=[1, 2])\n",
    "\n",
    "            else:\n",
    "                for q in range(1, n_qubits):\n",
    "                    qml.CNOT(wires=[q, 0])\n",
    "                for q in range(2, n_qubits):\n",
    "                    qml.CNOT(wires=[q, 1])\n",
    "\n",
    "            if l < n_layers-1:\n",
    "                qml.AngleEmbedding(state, wires=range(n_qubits),rotation=\"Y\")\n",
    "                qml.AngleEmbedding(state, wires=range(n_qubits),rotation=\"Z\")\n",
    "\n",
    "\n",
    "@qml.qnode(dev,interface=\"torch\")\n",
    "def qcircuit_fisher(s,params):\n",
    "\n",
    "    for i in range(n_qubits):\n",
    "        qml.Hadamard(wires=i)\n",
    "    \n",
    "    ansatz_flatten(s, params, n_qubits, n_layers=1, change_of_basis=False, entanglement=\"all2all\")\n",
    "\n",
    "    #for q in range(n_qubits-1):\n",
    "        #qml.CNOT(wires=[q,n_qubits])\n",
    "        #qml.CNOT(wires=[q,q+1])\n",
    "        \n",
    "    return qml.probs(wires=range(n_qubits)) \n",
    "\n",
    "\n",
    "@qml.qnode(dev,interface=\"torch\")\n",
    "def qcircuit_fisher_2(s,params):\n",
    "\n",
    "    for i in range(n_qubits):\n",
    "        qml.Hadamard(wires=i)\n",
    "    \n",
    "    ansatz_flatten(s, params, n_qubits, n_layers=1, change_of_basis=False, entanglement=\"all2all\")\n",
    "\n",
    "    for q in range(n_qubits-1):\n",
    "        #qml.CNOT(wires=[q,n_qubits])\n",
    "        qml.CNOT(wires=[q,q+1])\n",
    "        \n",
    "    return qml.probs(wires=n_qubits-1) "
   ]
  },
  {
   "cell_type": "code",
   "execution_count": 19,
   "metadata": {},
   "outputs": [],
   "source": [
    "def FIM(s,weights):\n",
    "    num_params = len(weights)\n",
    "    fisher_info_matrix = np.zeros((num_params, num_params))\n",
    "    #for s in range(n_samples):\n",
    "    \n",
    "    outs = qcircuit_fisher(s,weights)\n",
    "\n",
    "    for i in range(2**n_qubits):\n",
    "        if weights.grad is not None:\n",
    "            print(\"grad not none\")\n",
    "            weights.grad.zero_()\n",
    "        \n",
    "        #outs = qcircuit_fisher(s,weights)\n",
    "        log_prob = outs[i]\n",
    "\n",
    "        log_prob.backward(retain_graph=True)\n",
    "        grad = weights.grad.view(-1)\n",
    "        grad_np = grad.detach().numpy()  # Detach the gradients and convert to NumPy\n",
    "        fisher_info_matrix += (1/outs[i].detach().numpy()) * np.outer(grad_np, grad_np)\n",
    "    #fisher_info_matrix /= n_samples\n",
    "\n",
    "    regularization_constant = 0.1\n",
    "    fisher_info_matrix += regularization_constant * np.eye(num_params)\n",
    "    fisher_info_matrix = fisher_info_matrix.real\n",
    "\n",
    "    return fisher_info_matrix"
   ]
  },
  {
   "cell_type": "code",
   "execution_count": 12,
   "metadata": {},
   "outputs": [],
   "source": [
    "batch_size = 1000\n",
    "ss = np.random.random((batch_size,n_qubits))\n",
    "\n",
    "avg_state = np.mean(ss,axis=0)\n",
    "\n",
    "n_layers=4\n",
    "w = np.random.random((n_layers,n_qubits,2)).flatten()\n"
   ]
  },
  {
   "cell_type": "code",
   "execution_count": 13,
   "metadata": {},
   "outputs": [
    {
     "name": "stdout",
     "output_type": "stream",
     "text": [
      "[[ 1.00906904e-01 -2.78438309e-02  2.17085289e-10 ...  0.00000000e+00\n",
      "   0.00000000e+00  0.00000000e+00]\n",
      " [-2.78438309e-02  9.54862997e-01 -3.06414034e-09 ...  0.00000000e+00\n",
      "   0.00000000e+00  0.00000000e+00]\n",
      " [ 2.17085289e-10 -3.06414034e-09  1.94307898e-01 ...  0.00000000e+00\n",
      "   0.00000000e+00  0.00000000e+00]\n",
      " ...\n",
      " [ 0.00000000e+00  0.00000000e+00  0.00000000e+00 ...  1.00000000e-01\n",
      "   0.00000000e+00  0.00000000e+00]\n",
      " [ 0.00000000e+00  0.00000000e+00  0.00000000e+00 ...  0.00000000e+00\n",
      "   1.00000000e-01  0.00000000e+00]\n",
      " [ 0.00000000e+00  0.00000000e+00  0.00000000e+00 ...  0.00000000e+00\n",
      "   0.00000000e+00  1.00000000e-01]]\n"
     ]
    }
   ],
   "source": [
    "cfim = qml.qinfo.classical_fisher(qcircuit_fisher)(torch.tensor(avg_state,requires_grad=False), torch.tensor(w, requires_grad=True))[1].detach().numpy() \n",
    "regularization_constant = 0.1\n",
    "cfim += regularization_constant * np.eye(len(w))\n",
    "print(cfim)"
   ]
  },
  {
   "cell_type": "code",
   "execution_count": 14,
   "metadata": {},
   "outputs": [
    {
     "name": "stdout",
     "output_type": "stream",
     "text": [
      "[[ 1.00906904e-01 -2.78438309e-02  2.17085289e-10 ...  0.00000000e+00\n",
      "   0.00000000e+00  0.00000000e+00]\n",
      " [-2.78438309e-02  9.54862997e-01 -3.06414034e-09 ...  0.00000000e+00\n",
      "   0.00000000e+00  0.00000000e+00]\n",
      " [ 2.17085289e-10 -3.06414034e-09  1.94307898e-01 ...  0.00000000e+00\n",
      "   0.00000000e+00  0.00000000e+00]\n",
      " ...\n",
      " [ 0.00000000e+00  0.00000000e+00  0.00000000e+00 ...  1.00000000e-01\n",
      "   0.00000000e+00  0.00000000e+00]\n",
      " [ 0.00000000e+00  0.00000000e+00  0.00000000e+00 ...  0.00000000e+00\n",
      "   1.00000000e-01  0.00000000e+00]\n",
      " [ 0.00000000e+00  0.00000000e+00  0.00000000e+00 ...  0.00000000e+00\n",
      "   0.00000000e+00  1.00000000e-01]]\n"
     ]
    }
   ],
   "source": [
    "cfim = qml.qinfo.classical_fisher(qcircuit_fisher_2)(torch.tensor(avg_state,requires_grad=False), torch.tensor(w, requires_grad=True))[1].detach().numpy() \n",
    "regularization_constant = 0.1\n",
    "cfim += regularization_constant * np.eye(len(w))\n",
    "print(cfim)"
   ]
  },
  {
   "cell_type": "code",
   "execution_count": 20,
   "metadata": {},
   "outputs": [
    {
     "name": "stdout",
     "output_type": "stream",
     "text": [
      "grad not none\n",
      "grad not none\n",
      "grad not none\n",
      "grad not none\n",
      "grad not none\n",
      "grad not none\n",
      "grad not none\n",
      "grad not none\n",
      "grad not none\n",
      "grad not none\n",
      "grad not none\n",
      "grad not none\n",
      "grad not none\n",
      "grad not none\n",
      "grad not none\n",
      "[[ 1.00906904e-01 -2.78438309e-02  2.17085289e-10 ...  0.00000000e+00\n",
      "   0.00000000e+00  0.00000000e+00]\n",
      " [-2.78438309e-02  9.54862997e-01 -3.06414033e-09 ...  0.00000000e+00\n",
      "   0.00000000e+00  0.00000000e+00]\n",
      " [ 2.17085289e-10 -3.06414033e-09  1.94307898e-01 ...  0.00000000e+00\n",
      "   0.00000000e+00  0.00000000e+00]\n",
      " ...\n",
      " [ 0.00000000e+00  0.00000000e+00  0.00000000e+00 ...  1.00000000e-01\n",
      "   0.00000000e+00  0.00000000e+00]\n",
      " [ 0.00000000e+00  0.00000000e+00  0.00000000e+00 ...  0.00000000e+00\n",
      "   1.00000000e-01  0.00000000e+00]\n",
      " [ 0.00000000e+00  0.00000000e+00  0.00000000e+00 ...  0.00000000e+00\n",
      "   0.00000000e+00  1.00000000e-01]]\n"
     ]
    },
    {
     "ename": "",
     "evalue": "",
     "output_type": "error",
     "traceback": [
      "\u001b[1;31mThe Kernel crashed while executing code in the the current cell or a previous cell. Please review the code in the cell(s) to identify a possible cause of the failure. Click <a href='https://aka.ms/vscodeJupyterKernelCrash'>here</a> for more info. View Jupyter <a href='command:jupyter.viewOutput'>log</a> for further details."
     ]
    }
   ],
   "source": [
    "cfim_man = FIM(torch.tensor(avg_state,requires_grad=False), torch.tensor(w, requires_grad=True)) \n",
    "print(cfim_man)"
   ]
  },
  {
   "cell_type": "code",
   "execution_count": 16,
   "metadata": {},
   "outputs": [
    {
     "name": "stdout",
     "output_type": "stream",
     "text": [
      "2.748766145904134e-16\n"
     ]
    }
   ],
   "source": [
    "#frobenious norm\n",
    "print(np.linalg.norm(cfim-cfim_man))"
   ]
  },
  {
   "cell_type": "code",
   "execution_count": null,
   "metadata": {},
   "outputs": [],
   "source": []
  }
 ],
 "metadata": {
  "kernelspec": {
   "display_name": "quantum_DS",
   "language": "python",
   "name": "python3"
  },
  "language_info": {
   "codemirror_mode": {
    "name": "ipython",
    "version": 3
   },
   "file_extension": ".py",
   "mimetype": "text/x-python",
   "name": "python",
   "nbconvert_exporter": "python",
   "pygments_lexer": "ipython3",
   "version": "3.10.4"
  },
  "orig_nbformat": 4
 },
 "nbformat": 4,
 "nbformat_minor": 2
}
